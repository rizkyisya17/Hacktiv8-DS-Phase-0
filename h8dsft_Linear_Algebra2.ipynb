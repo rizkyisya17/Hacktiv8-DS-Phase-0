{
 "cells": [
  {
   "cell_type": "code",
   "execution_count": 1,
   "metadata": {},
   "outputs": [],
   "source": [
    "import numpy as np\n"
   ]
  },
  {
   "cell_type": "markdown",
   "metadata": {},
   "source": [
    "TENSOR"
   ]
  },
  {
   "cell_type": "code",
   "execution_count": 20,
   "metadata": {},
   "outputs": [
    {
     "data": {
      "text/plain": [
       "array([[[23, 50],\n",
       "        [ 7, 12]],\n",
       "\n",
       "       [[57, 67],\n",
       "        [99, 43]],\n",
       "\n",
       "       [[75, 21],\n",
       "        [57, 12]],\n",
       "\n",
       "       [[87, 26],\n",
       "        [18, 84]]])"
      ]
     },
     "execution_count": 20,
     "metadata": {},
     "output_type": "execute_result"
    }
   ],
   "source": [
    "tensor = [[[23,50],[7,12]],\n",
    "        [[57,67],[99,43]],\n",
    "        [[75,21],[57,12]],\n",
    "        [[87,26],[18,84]]]\n",
    "tensor = np.array(tensor)   \n",
    "tensor        "
   ]
  },
  {
   "cell_type": "code",
   "execution_count": 15,
   "metadata": {},
   "outputs": [
    {
     "data": {
      "text/plain": [
       "(4, 2, 2)"
      ]
     },
     "execution_count": 15,
     "metadata": {},
     "output_type": "execute_result"
    }
   ],
   "source": [
    "tensor.shape"
   ]
  },
  {
   "cell_type": "markdown",
   "metadata": {},
   "source": [
    "MATRIX"
   ]
  },
  {
   "cell_type": "code",
   "execution_count": 25,
   "metadata": {},
   "outputs": [
    {
     "name": "stdout",
     "output_type": "stream",
     "text": [
      "[[ 391  850  323]\n",
      " [ 154  264 2398]\n",
      " [1083 1273 1862]]\n"
     ]
    }
   ],
   "source": [
    "A = np.array([[23,50,19],\n",
    "              [7,12,109],\n",
    "              [57,67,98]])\n",
    "B = np.array([[17],\n",
    "              [22],\n",
    "              [19]])\n",
    "print(A*B)                           "
   ]
  },
  {
   "cell_type": "code",
   "execution_count": 29,
   "metadata": {},
   "outputs": [
    {
     "name": "stdout",
     "output_type": "stream",
     "text": [
      "[[ 23   7  57]\n",
      " [ 50  12  67]\n",
      " [ 19 109  98]]\n",
      "131344.0000000002\n",
      "[[-0.0466485  -0.02761451  0.03975819]\n",
      " [ 0.04208034  0.00891552 -0.01807467]\n",
      " [-0.00163692  0.0099662  -0.00056341]]\n"
     ]
    }
   ],
   "source": [
    "A = np.array([[23,50,19],\n",
    "              [7,12,109],\n",
    "              [57,67,98]])\n",
    "A_transpose =  A.transpose()\n",
    "A_determinan = np.linalg.det(A)\n",
    "A_invers = np.linalg.inv(A)\n",
    "print(A_transpose)\n",
    "print(A_determinan)\n",
    "print(A_invers)"
   ]
  }
 ],
 "metadata": {
  "kernelspec": {
   "display_name": "Python 3.9.12 ('base')",
   "language": "python",
   "name": "python3"
  },
  "language_info": {
   "codemirror_mode": {
    "name": "ipython",
    "version": 3
   },
   "file_extension": ".py",
   "mimetype": "text/x-python",
   "name": "python",
   "nbconvert_exporter": "python",
   "pygments_lexer": "ipython3",
   "version": "3.9.12"
  },
  "orig_nbformat": 4,
  "vscode": {
   "interpreter": {
    "hash": "8cc94ca4d458375ab6fa09fff2bcebd17a45ec2b30e79818f9096fe81b376e63"
   }
  }
 },
 "nbformat": 4,
 "nbformat_minor": 2
}
