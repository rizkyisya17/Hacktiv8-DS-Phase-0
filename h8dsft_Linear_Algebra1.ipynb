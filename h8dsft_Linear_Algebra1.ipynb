{
 "cells": [
  {
   "cell_type": "code",
   "execution_count": 3,
   "metadata": {},
   "outputs": [],
   "source": [
    "import numpy as np\n",
    "import matplotlib.pyplot as plt"
   ]
  },
  {
   "cell_type": "code",
   "execution_count": 2,
   "metadata": {},
   "outputs": [
    {
     "name": "stdout",
     "output_type": "stream",
     "text": [
      "[27 42 30]\n",
      "[5 8 2]\n",
      "520\n",
      "[170 440 209]\n",
      "33.67491648096547\n",
      "55.91833181148758\n"
     ]
    }
   ],
   "source": [
    "A = [17,22,19]\n",
    "B = [10,20,11]\n",
    "C = [5,12,9]\n",
    "\n",
    "A = np.array(A)\n",
    "B = np.array(B)\n",
    "C = np.array(C)\n",
    "\n",
    "print(A+B)\n",
    "print(B-C)\n",
    "print(A@C)\n",
    "print(A*B)\n",
    "print(np.linalg.norm(A))\n",
    "cos_theta = (A@B) / (np.linalg.norm(A) * (np.linalg.norm(B)))\n",
    "print(np.degrees(cos_theta))\n",
    "\n"
   ]
  },
  {
   "cell_type": "code",
   "execution_count": 13,
   "metadata": {},
   "outputs": [
    {
     "data": {
      "image/png": "[encoded data removed]",
      "text/plain": [
       "<Figure size 432x288 with 1 Axes>"
      ]
     },
     "metadata": {
      "needs_background": "light"
     },
     "output_type": "display_data"
    }
   ],
   "source": [
    "# copas\n",
    "\n",
    "v = [2,5]\n",
    "w = [3,1]\n",
    "\n",
    "array = np.array([[0, 0, v[0], v[1]], \n",
    "                 [0, 0, w[0], w[1]]])\n",
    "\n",
    "X, Y, V, W = zip(*array)\n",
    "plt.figure()\n",
    "plt.ylabel('Y-axis')\n",
    "plt.xlabel('X-axis')\n",
    "ax = plt.gca()\n",
    "ax.annotate(f'v({v[0]},{v[1]})', (v[0],v[1]),fontsize=14)\n",
    "plt.scatter(v[0],v[1], s=10,c='red')\n",
    "ax.annotate(f'w({w[0]},{w[1]})', (w[0],w[1]),fontsize=14)\n",
    "plt.scatter(w[0], w[1], s=10,c='blue')\n",
    "ax.quiver(X, Y, V, W, angles='xy', scale_units='xy',color=['r','b'],scale=1)\n",
    "ax.set_xlim([0, 10])\n",
    "ax.set_ylim([0, 10])\n",
    "\n",
    "plt.grid()\n",
    "plt.draw()\n",
    "plt.show()"
   ]
  }
 ],
 "metadata": {
  "kernelspec": {
   "display_name": "Python 3.9.12 ('base')",
   "language": "python",
   "name": "python3"
  },
  "language_info": {
   "codemirror_mode": {
    "name": "ipython",
    "version": 3
   },
   "file_extension": ".py",
   "mimetype": "text/x-python",
   "name": "python",
   "nbconvert_exporter": "python",
   "pygments_lexer": "ipython3",
   "version": "3.9.12"
  },
  "orig_nbformat": 4,
  "vscode": {
   "interpreter": {
    "hash": "8cc94ca4d458375ab6fa09fff2bcebd17a45ec2b30e79818f9096fe81b376e63"
   }
  }
 },
 "nbformat": 4,
 "nbformat_minor": 2
}
