{
 "cells": [
  {
   "cell_type": "code",
   "execution_count": 3,
   "metadata": {},
   "outputs": [],
   "source": [
    "import sympy as sy\n",
    "import numpy as np"
   ]
  },
  {
   "cell_type": "markdown",
   "metadata": {},
   "source": [
    "FIRST METHOD"
   ]
  },
  {
   "cell_type": "markdown",
   "metadata": {},
   "source": [
    "gradient 3x+4y=5\n",
    "4y= 5-3x\n",
    "y= 5/4 - 3/4x"
   ]
  },
  {
   "cell_type": "code",
   "execution_count": 35,
   "metadata": {},
   "outputs": [
    {
     "data": {
      "text/plain": [
       "array([-0.75, -0.75, -0.75, -0.75, -0.75, -0.75, -0.75, -0.75, -0.75,\n",
       "       -0.75, -0.75, -0.75, -0.75, -0.75, -0.75, -0.75, -0.75, -0.75,\n",
       "       -0.75, -0.75, -0.75, -0.75, -0.75, -0.75, -0.75, -0.75, -0.75,\n",
       "       -0.75, -0.75, -0.75, -0.75, -0.75, -0.75, -0.75, -0.75, -0.75,\n",
       "       -0.75, -0.75, -0.75, -0.75, -0.75, -0.75, -0.75, -0.75, -0.75,\n",
       "       -0.75, -0.75, -0.75, -0.75, -0.75])"
      ]
     },
     "execution_count": 35,
     "metadata": {},
     "output_type": "execute_result"
    }
   ],
   "source": [
    "x = np.linspace(0,20)\n",
    "y = 5/4-3/4*x\n",
    "#y = 3*x+4*y-5\n",
    "\n",
    "np.gradient(y,x)\n"
   ]
  },
  {
   "cell_type": "code",
   "execution_count": 36,
   "metadata": {},
   "outputs": [
    {
     "data": {
      "text/plain": [
       "array([-0.75, -0.75, -0.75, -0.75, -0.75, -0.75, -0.75, -0.75, -0.75,\n",
       "       -0.75, -0.75, -0.75, -0.75, -0.75, -0.75, -0.75, -0.75, -0.75,\n",
       "       -0.75, -0.75, -0.75, -0.75, -0.75, -0.75, -0.75, -0.75, -0.75,\n",
       "       -0.75, -0.75, -0.75, -0.75, -0.75, -0.75, -0.75, -0.75, -0.75,\n",
       "       -0.75, -0.75, -0.75, -0.75, -0.75, -0.75, -0.75, -0.75, -0.75,\n",
       "       -0.75, -0.75, -0.75, -0.75])"
      ]
     },
     "execution_count": 36,
     "metadata": {},
     "output_type": "execute_result"
    }
   ],
   "source": [
    "np.diff(y)/np.diff(x)"
   ]
  },
  {
   "cell_type": "markdown",
   "metadata": {},
   "source": [
    "SECOND METHOD"
   ]
  },
  {
   "cell_type": "code",
   "execution_count": 37,
   "metadata": {},
   "outputs": [],
   "source": [
    "def f(x,y):\n",
    "    return 3*x+4*y-5"
   ]
  },
  {
   "cell_type": "code",
   "execution_count": 41,
   "metadata": {},
   "outputs": [],
   "source": [
    "x1 = np.linspace(0,20)\n",
    "y1 = np.linspace(0,20)\n",
    "\n",
    "z = np.array([[f(i,j)for i in x1]for j in y1])"
   ]
  },
  {
   "cell_type": "code",
   "execution_count": 42,
   "metadata": {},
   "outputs": [],
   "source": [
    "dx, dy = np.gradient(z)"
   ]
  },
  {
   "cell_type": "code",
   "execution_count": 43,
   "metadata": {},
   "outputs": [
    {
     "data": {
      "text/plain": [
       "array([[1.63265306, 1.63265306, 1.63265306, ..., 1.63265306, 1.63265306,\n",
       "        1.63265306],\n",
       "       [1.63265306, 1.63265306, 1.63265306, ..., 1.63265306, 1.63265306,\n",
       "        1.63265306],\n",
       "       [1.63265306, 1.63265306, 1.63265306, ..., 1.63265306, 1.63265306,\n",
       "        1.63265306],\n",
       "       ...,\n",
       "       [1.63265306, 1.63265306, 1.63265306, ..., 1.63265306, 1.63265306,\n",
       "        1.63265306],\n",
       "       [1.63265306, 1.63265306, 1.63265306, ..., 1.63265306, 1.63265306,\n",
       "        1.63265306],\n",
       "       [1.63265306, 1.63265306, 1.63265306, ..., 1.63265306, 1.63265306,\n",
       "        1.63265306]])"
      ]
     },
     "execution_count": 43,
     "metadata": {},
     "output_type": "execute_result"
    }
   ],
   "source": [
    "dx"
   ]
  },
  {
   "cell_type": "code",
   "execution_count": 44,
   "metadata": {},
   "outputs": [
    {
     "data": {
      "text/plain": [
       "array([[1.2244898, 1.2244898, 1.2244898, ..., 1.2244898, 1.2244898,\n",
       "        1.2244898],\n",
       "       [1.2244898, 1.2244898, 1.2244898, ..., 1.2244898, 1.2244898,\n",
       "        1.2244898],\n",
       "       [1.2244898, 1.2244898, 1.2244898, ..., 1.2244898, 1.2244898,\n",
       "        1.2244898],\n",
       "       ...,\n",
       "       [1.2244898, 1.2244898, 1.2244898, ..., 1.2244898, 1.2244898,\n",
       "        1.2244898],\n",
       "       [1.2244898, 1.2244898, 1.2244898, ..., 1.2244898, 1.2244898,\n",
       "        1.2244898],\n",
       "       [1.2244898, 1.2244898, 1.2244898, ..., 1.2244898, 1.2244898,\n",
       "        1.2244898]])"
      ]
     },
     "execution_count": 44,
     "metadata": {},
     "output_type": "execute_result"
    }
   ],
   "source": [
    "dy"
   ]
  }
 ],
 "metadata": {
  "kernelspec": {
   "display_name": "Python 3.9.12 ('base')",
   "language": "python",
   "name": "python3"
  },
  "language_info": {
   "codemirror_mode": {
    "name": "ipython",
    "version": 3
   },
   "file_extension": ".py",
   "mimetype": "text/x-python",
   "name": "python",
   "nbconvert_exporter": "python",
   "pygments_lexer": "ipython3",
   "version": "3.9.12"
  },
  "orig_nbformat": 4,
  "vscode": {
   "interpreter": {
    "hash": "8cc94ca4d458375ab6fa09fff2bcebd17a45ec2b30e79818f9096fe81b376e63"
   }
  }
 },
 "nbformat": 4,
 "nbformat_minor": 2
}
