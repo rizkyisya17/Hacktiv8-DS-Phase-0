{
 "cells": [
  {
   "cell_type": "code",
   "execution_count": 32,
   "metadata": {},
   "outputs": [],
   "source": [
    "def k2c(k):\n",
    "    c = k-273\n",
    "    return c\n",
    "    #print(f'Suhu {k} Kelvin = {c} Suhu Celcius')\n",
    "\n",
    "def c2k(c):\n",
    "    k = c+273\n",
    "    return k\n",
    "    #print(f'Suhu {c} Celcius = {k} Suhu Kelvin')\n",
    "\n",
    "#k2c(323)    "
   ]
  },
  {
   "cell_type": "code",
   "execution_count": 36,
   "metadata": {},
   "outputs": [
    {
     "name": "stdout",
     "output_type": "stream",
     "text": [
      "Suhu 50 Celcius = 122.0 Suhu Fahreinheit\n",
      "Suhu 323 Kelvin = 122.0 Suhu Fahreinheit\n"
     ]
    }
   ],
   "source": [
    "def suhu2fahreinheit(c,k):\n",
    "    fahreinheit_c = (c * 1.8) + 32\n",
    "    fahreinheit_k = (k2c(k) * 1.8) + 32\n",
    "    print(f'Suhu {c} Celcius = {fahreinheit_c} Suhu Fahreinheit')\n",
    "    print(f'Suhu {k} Kelvin = {fahreinheit_k} Suhu Fahreinheit')\n",
    "\n",
    "suhu2fahreinheit(50,323)        "
   ]
  },
  {
   "cell_type": "code",
   "execution_count": 39,
   "metadata": {},
   "outputs": [
    {
     "name": "stdout",
     "output_type": "stream",
     "text": [
      "Suhu 90 Fahreinheit = 104.4 Suhu Celcius\n",
      "Suhu 90 Fahreinheit = 377.4 Suhu Kelvin\n"
     ]
    }
   ],
   "source": [
    "def fahreinheit2suhu(f):\n",
    "    c = (f - 32)* 1.8\n",
    "    k = c2k(c)\n",
    "    print(f'Suhu {f} Fahreinheit = {c} Suhu Celcius')\n",
    "    print(f'Suhu {f} Fahreinheit = {k} Suhu Kelvin')\n",
    "\n",
    "fahreinheit2suhu(90)    \n"
   ]
  }
 ],
 "metadata": {
  "kernelspec": {
   "display_name": "Python 3.9.12 ('base')",
   "language": "python",
   "name": "python3"
  },
  "language_info": {
   "codemirror_mode": {
    "name": "ipython",
    "version": 3
   },
   "file_extension": ".py",
   "mimetype": "text/x-python",
   "name": "python",
   "nbconvert_exporter": "python",
   "pygments_lexer": "ipython3",
   "version": "3.9.12"
  },
  "orig_nbformat": 4,
  "vscode": {
   "interpreter": {
    "hash": "8cc94ca4d458375ab6fa09fff2bcebd17a45ec2b30e79818f9096fe81b376e63"
   }
  }
 },
 "nbformat": 4,
 "nbformat_minor": 2
}
