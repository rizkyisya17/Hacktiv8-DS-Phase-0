{
 "cells": [
  {
   "cell_type": "markdown",
   "metadata": {},
   "source": [
    "- Cari Measure of Central Tendency dari data tersebut.\n",
    "- Cari Measure of Variance dari data tersebut"
   ]
  },
  {
   "cell_type": "code",
   "execution_count": 13,
   "metadata": {},
   "outputs": [],
   "source": [
    "import numpy as np\n",
    "import pandas as pd\n",
    "from scipy import stats\n",
    "from matplotlib import pyplot as plt"
   ]
  },
  {
   "cell_type": "code",
   "execution_count": 2,
   "metadata": {},
   "outputs": [
    {
     "data": {
      "text/html": [
       "<div>\n",
       "<style scoped>\n",
       "    .dataframe tbody tr th:only-of-type {\n",
       "        vertical-align: middle;\n",
       "    }\n",
       "\n",
       "    .dataframe tbody tr th {\n",
       "        vertical-align: top;\n",
       "    }\n",
       "\n",
       "    .dataframe thead th {\n",
       "        text-align: right;\n",
       "    }\n",
       "</style>\n",
       "<table border=\"1\" class=\"dataframe\">\n",
       "  <thead>\n",
       "    <tr style=\"text-align: right;\">\n",
       "      <th></th>\n",
       "      <th>Date</th>\n",
       "      <th>Location ISO Code</th>\n",
       "      <th>Location</th>\n",
       "      <th>New Cases</th>\n",
       "      <th>New Deaths</th>\n",
       "      <th>New Recovered</th>\n",
       "      <th>New Active Cases</th>\n",
       "      <th>Total Cases</th>\n",
       "      <th>Total Deaths</th>\n",
       "      <th>Total Recovered</th>\n",
       "      <th>...</th>\n",
       "      <th>Latitude</th>\n",
       "      <th>New Cases per Million</th>\n",
       "      <th>Total Cases per Million</th>\n",
       "      <th>New Deaths per Million</th>\n",
       "      <th>Total Deaths per Million</th>\n",
       "      <th>Total Deaths per 100rb</th>\n",
       "      <th>Case Fatality Rate</th>\n",
       "      <th>Case Recovered Rate</th>\n",
       "      <th>Growth Factor of New Cases</th>\n",
       "      <th>Growth Factor of New Deaths</th>\n",
       "    </tr>\n",
       "  </thead>\n",
       "  <tbody>\n",
       "    <tr>\n",
       "      <th>0</th>\n",
       "      <td>3/1/2020</td>\n",
       "      <td>ID-JK</td>\n",
       "      <td>DKI Jakarta</td>\n",
       "      <td>2</td>\n",
       "      <td>0</td>\n",
       "      <td>0</td>\n",
       "      <td>2</td>\n",
       "      <td>39</td>\n",
       "      <td>20</td>\n",
       "      <td>75</td>\n",
       "      <td>...</td>\n",
       "      <td>-6.204699</td>\n",
       "      <td>0.18</td>\n",
       "      <td>3.60</td>\n",
       "      <td>0.0</td>\n",
       "      <td>1.84</td>\n",
       "      <td>0.18</td>\n",
       "      <td>51.28%</td>\n",
       "      <td>192.31%</td>\n",
       "      <td>NaN</td>\n",
       "      <td>NaN</td>\n",
       "    </tr>\n",
       "    <tr>\n",
       "      <th>1</th>\n",
       "      <td>3/2/2020</td>\n",
       "      <td>ID-JK</td>\n",
       "      <td>DKI Jakarta</td>\n",
       "      <td>2</td>\n",
       "      <td>0</td>\n",
       "      <td>0</td>\n",
       "      <td>2</td>\n",
       "      <td>41</td>\n",
       "      <td>20</td>\n",
       "      <td>75</td>\n",
       "      <td>...</td>\n",
       "      <td>-6.204699</td>\n",
       "      <td>0.18</td>\n",
       "      <td>3.78</td>\n",
       "      <td>0.0</td>\n",
       "      <td>1.84</td>\n",
       "      <td>0.18</td>\n",
       "      <td>48.78%</td>\n",
       "      <td>182.93%</td>\n",
       "      <td>1.00</td>\n",
       "      <td>1.00</td>\n",
       "    </tr>\n",
       "    <tr>\n",
       "      <th>2</th>\n",
       "      <td>3/2/2020</td>\n",
       "      <td>IDN</td>\n",
       "      <td>Indonesia</td>\n",
       "      <td>2</td>\n",
       "      <td>0</td>\n",
       "      <td>0</td>\n",
       "      <td>2</td>\n",
       "      <td>2</td>\n",
       "      <td>0</td>\n",
       "      <td>0</td>\n",
       "      <td>...</td>\n",
       "      <td>-0.789275</td>\n",
       "      <td>0.01</td>\n",
       "      <td>0.01</td>\n",
       "      <td>0.0</td>\n",
       "      <td>0.00</td>\n",
       "      <td>0.00</td>\n",
       "      <td>0.00%</td>\n",
       "      <td>0.00%</td>\n",
       "      <td>NaN</td>\n",
       "      <td>NaN</td>\n",
       "    </tr>\n",
       "    <tr>\n",
       "      <th>3</th>\n",
       "      <td>3/2/2020</td>\n",
       "      <td>ID-RI</td>\n",
       "      <td>Riau</td>\n",
       "      <td>1</td>\n",
       "      <td>0</td>\n",
       "      <td>0</td>\n",
       "      <td>1</td>\n",
       "      <td>1</td>\n",
       "      <td>0</td>\n",
       "      <td>1</td>\n",
       "      <td>...</td>\n",
       "      <td>0.511648</td>\n",
       "      <td>0.16</td>\n",
       "      <td>0.16</td>\n",
       "      <td>0.0</td>\n",
       "      <td>0.00</td>\n",
       "      <td>0.00</td>\n",
       "      <td>0.00%</td>\n",
       "      <td>100.00%</td>\n",
       "      <td>NaN</td>\n",
       "      <td>NaN</td>\n",
       "    </tr>\n",
       "    <tr>\n",
       "      <th>4</th>\n",
       "      <td>3/3/2020</td>\n",
       "      <td>ID-JK</td>\n",
       "      <td>DKI Jakarta</td>\n",
       "      <td>2</td>\n",
       "      <td>0</td>\n",
       "      <td>0</td>\n",
       "      <td>2</td>\n",
       "      <td>43</td>\n",
       "      <td>20</td>\n",
       "      <td>75</td>\n",
       "      <td>...</td>\n",
       "      <td>-6.204699</td>\n",
       "      <td>0.18</td>\n",
       "      <td>3.96</td>\n",
       "      <td>0.0</td>\n",
       "      <td>1.84</td>\n",
       "      <td>0.18</td>\n",
       "      <td>46.51%</td>\n",
       "      <td>174.42%</td>\n",
       "      <td>1.00</td>\n",
       "      <td>1.00</td>\n",
       "    </tr>\n",
       "    <tr>\n",
       "      <th>...</th>\n",
       "      <td>...</td>\n",
       "      <td>...</td>\n",
       "      <td>...</td>\n",
       "      <td>...</td>\n",
       "      <td>...</td>\n",
       "      <td>...</td>\n",
       "      <td>...</td>\n",
       "      <td>...</td>\n",
       "      <td>...</td>\n",
       "      <td>...</td>\n",
       "      <td>...</td>\n",
       "      <td>...</td>\n",
       "      <td>...</td>\n",
       "      <td>...</td>\n",
       "      <td>...</td>\n",
       "      <td>...</td>\n",
       "      <td>...</td>\n",
       "      <td>...</td>\n",
       "      <td>...</td>\n",
       "      <td>...</td>\n",
       "      <td>...</td>\n",
       "    </tr>\n",
       "    <tr>\n",
       "      <th>31817</th>\n",
       "      <td>9/15/2022</td>\n",
       "      <td>ID-SA</td>\n",
       "      <td>Sulawesi Utara</td>\n",
       "      <td>37</td>\n",
       "      <td>0</td>\n",
       "      <td>0</td>\n",
       "      <td>37</td>\n",
       "      <td>52770</td>\n",
       "      <td>1213</td>\n",
       "      <td>50997</td>\n",
       "      <td>...</td>\n",
       "      <td>1.259638</td>\n",
       "      <td>14.01</td>\n",
       "      <td>19974.38</td>\n",
       "      <td>0.0</td>\n",
       "      <td>459.14</td>\n",
       "      <td>45.91</td>\n",
       "      <td>2.30%</td>\n",
       "      <td>96.64%</td>\n",
       "      <td>2.85</td>\n",
       "      <td>1.00</td>\n",
       "    </tr>\n",
       "    <tr>\n",
       "      <th>31818</th>\n",
       "      <td>9/15/2022</td>\n",
       "      <td>ID-SB</td>\n",
       "      <td>Sumatera Barat</td>\n",
       "      <td>13</td>\n",
       "      <td>0</td>\n",
       "      <td>3</td>\n",
       "      <td>10</td>\n",
       "      <td>104640</td>\n",
       "      <td>2371</td>\n",
       "      <td>102066</td>\n",
       "      <td>...</td>\n",
       "      <td>-0.850253</td>\n",
       "      <td>2.36</td>\n",
       "      <td>18959.11</td>\n",
       "      <td>0.0</td>\n",
       "      <td>429.59</td>\n",
       "      <td>42.96</td>\n",
       "      <td>2.27%</td>\n",
       "      <td>97.54%</td>\n",
       "      <td>6.50</td>\n",
       "      <td>1.00</td>\n",
       "    </tr>\n",
       "    <tr>\n",
       "      <th>31819</th>\n",
       "      <td>9/15/2022</td>\n",
       "      <td>ID-SS</td>\n",
       "      <td>Sumatera Selatan</td>\n",
       "      <td>16</td>\n",
       "      <td>0</td>\n",
       "      <td>1</td>\n",
       "      <td>15</td>\n",
       "      <td>82198</td>\n",
       "      <td>3376</td>\n",
       "      <td>78510</td>\n",
       "      <td>...</td>\n",
       "      <td>-3.216212</td>\n",
       "      <td>1.95</td>\n",
       "      <td>10002.74</td>\n",
       "      <td>0.0</td>\n",
       "      <td>410.83</td>\n",
       "      <td>41.08</td>\n",
       "      <td>4.11%</td>\n",
       "      <td>95.51%</td>\n",
       "      <td>3.20</td>\n",
       "      <td>1.00</td>\n",
       "    </tr>\n",
       "    <tr>\n",
       "      <th>31820</th>\n",
       "      <td>9/15/2022</td>\n",
       "      <td>ID-SU</td>\n",
       "      <td>Sumatera Utara</td>\n",
       "      <td>50</td>\n",
       "      <td>0</td>\n",
       "      <td>5</td>\n",
       "      <td>45</td>\n",
       "      <td>158866</td>\n",
       "      <td>3288</td>\n",
       "      <td>154924</td>\n",
       "      <td>...</td>\n",
       "      <td>2.191894</td>\n",
       "      <td>3.36</td>\n",
       "      <td>10680.15</td>\n",
       "      <td>0.0</td>\n",
       "      <td>221.04</td>\n",
       "      <td>22.10</td>\n",
       "      <td>2.07%</td>\n",
       "      <td>97.52%</td>\n",
       "      <td>1.92</td>\n",
       "      <td>1.00</td>\n",
       "    </tr>\n",
       "    <tr>\n",
       "      <th>31821</th>\n",
       "      <td>9/16/2022</td>\n",
       "      <td>IDN</td>\n",
       "      <td>Indonesia</td>\n",
       "      <td>2358</td>\n",
       "      <td>27</td>\n",
       "      <td>2997</td>\n",
       "      <td>-666</td>\n",
       "      <td>6405044</td>\n",
       "      <td>157876</td>\n",
       "      <td>6218708</td>\n",
       "      <td>...</td>\n",
       "      <td>-0.789275</td>\n",
       "      <td>8.89</td>\n",
       "      <td>24153.07</td>\n",
       "      <td>0.1</td>\n",
       "      <td>595.34</td>\n",
       "      <td>59.53</td>\n",
       "      <td>2.46%</td>\n",
       "      <td>97.09%</td>\n",
       "      <td>0.89</td>\n",
       "      <td>1.29</td>\n",
       "    </tr>\n",
       "  </tbody>\n",
       "</table>\n",
       "<p>31822 rows × 38 columns</p>\n",
       "</div>"
      ],
      "text/plain": [
       "            Date Location ISO Code          Location  New Cases  New Deaths  \\\n",
       "0       3/1/2020             ID-JK       DKI Jakarta          2           0   \n",
       "1       3/2/2020             ID-JK       DKI Jakarta          2           0   \n",
       "2       3/2/2020               IDN         Indonesia          2           0   \n",
       "3       3/2/2020             ID-RI              Riau          1           0   \n",
       "4       3/3/2020             ID-JK       DKI Jakarta          2           0   \n",
       "...          ...               ...               ...        ...         ...   \n",
       "31817  9/15/2022             ID-SA    Sulawesi Utara         37           0   \n",
       "31818  9/15/2022             ID-SB    Sumatera Barat         13           0   \n",
       "31819  9/15/2022             ID-SS  Sumatera Selatan         16           0   \n",
       "31820  9/15/2022             ID-SU    Sumatera Utara         50           0   \n",
       "31821  9/16/2022               IDN         Indonesia       2358          27   \n",
       "\n",
       "       New Recovered  New Active Cases  Total Cases  Total Deaths  \\\n",
       "0                  0                 2           39            20   \n",
       "1                  0                 2           41            20   \n",
       "2                  0                 2            2             0   \n",
       "3                  0                 1            1             0   \n",
       "4                  0                 2           43            20   \n",
       "...              ...               ...          ...           ...   \n",
       "31817              0                37        52770          1213   \n",
       "31818              3                10       104640          2371   \n",
       "31819              1                15        82198          3376   \n",
       "31820              5                45       158866          3288   \n",
       "31821           2997              -666      6405044        157876   \n",
       "\n",
       "       Total Recovered  ...  Latitude New Cases per Million  \\\n",
       "0                   75  ... -6.204699                  0.18   \n",
       "1                   75  ... -6.204699                  0.18   \n",
       "2                    0  ... -0.789275                  0.01   \n",
       "3                    1  ...  0.511648                  0.16   \n",
       "4                   75  ... -6.204699                  0.18   \n",
       "...                ...  ...       ...                   ...   \n",
       "31817            50997  ...  1.259638                 14.01   \n",
       "31818           102066  ... -0.850253                  2.36   \n",
       "31819            78510  ... -3.216212                  1.95   \n",
       "31820           154924  ...  2.191894                  3.36   \n",
       "31821          6218708  ... -0.789275                  8.89   \n",
       "\n",
       "       Total Cases per Million New Deaths per Million  \\\n",
       "0                         3.60                    0.0   \n",
       "1                         3.78                    0.0   \n",
       "2                         0.01                    0.0   \n",
       "3                         0.16                    0.0   \n",
       "4                         3.96                    0.0   \n",
       "...                        ...                    ...   \n",
       "31817                 19974.38                    0.0   \n",
       "31818                 18959.11                    0.0   \n",
       "31819                 10002.74                    0.0   \n",
       "31820                 10680.15                    0.0   \n",
       "31821                 24153.07                    0.1   \n",
       "\n",
       "      Total Deaths per Million Total Deaths per 100rb Case Fatality Rate  \\\n",
       "0                         1.84                   0.18             51.28%   \n",
       "1                         1.84                   0.18             48.78%   \n",
       "2                         0.00                   0.00              0.00%   \n",
       "3                         0.00                   0.00              0.00%   \n",
       "4                         1.84                   0.18             46.51%   \n",
       "...                        ...                    ...                ...   \n",
       "31817                   459.14                  45.91              2.30%   \n",
       "31818                   429.59                  42.96              2.27%   \n",
       "31819                   410.83                  41.08              4.11%   \n",
       "31820                   221.04                  22.10              2.07%   \n",
       "31821                   595.34                  59.53              2.46%   \n",
       "\n",
       "      Case Recovered Rate Growth Factor of New Cases  \\\n",
       "0                 192.31%                        NaN   \n",
       "1                 182.93%                       1.00   \n",
       "2                   0.00%                        NaN   \n",
       "3                 100.00%                        NaN   \n",
       "4                 174.42%                       1.00   \n",
       "...                   ...                        ...   \n",
       "31817              96.64%                       2.85   \n",
       "31818              97.54%                       6.50   \n",
       "31819              95.51%                       3.20   \n",
       "31820              97.52%                       1.92   \n",
       "31821              97.09%                       0.89   \n",
       "\n",
       "       Growth Factor of New Deaths  \n",
       "0                              NaN  \n",
       "1                             1.00  \n",
       "2                              NaN  \n",
       "3                              NaN  \n",
       "4                             1.00  \n",
       "...                            ...  \n",
       "31817                         1.00  \n",
       "31818                         1.00  \n",
       "31819                         1.00  \n",
       "31820                         1.00  \n",
       "31821                         1.29  \n",
       "\n",
       "[31822 rows x 38 columns]"
      ]
     },
     "execution_count": 2,
     "metadata": {},
     "output_type": "execute_result"
    }
   ],
   "source": [
    "df = pd.read_csv('covid_19_indonesia_time_series_all.csv')\n",
    "df"
   ]
  },
  {
   "cell_type": "code",
   "execution_count": 11,
   "metadata": {},
   "outputs": [
    {
     "data": {
      "text/plain": [
       "min    1/1/2021\n",
       "max    9/9/2022\n",
       "Name: Date, dtype: object"
      ]
     },
     "execution_count": 11,
     "metadata": {},
     "output_type": "execute_result"
    }
   ],
   "source": [
    "df[\"Date\"].agg((\"min\", \"max\"))"
   ]
  },
  {
   "cell_type": "markdown",
   "metadata": {},
   "source": [
    "Berdasarkan data diatas saya mengambil kolom New Cases untuk menyelesaikan point2 dibawah"
   ]
  },
  {
   "cell_type": "markdown",
   "metadata": {},
   "source": [
    "# A. Measure of Central Tendency"
   ]
  },
  {
   "cell_type": "markdown",
   "metadata": {},
   "source": [
    "## 1. Mean"
   ]
  },
  {
   "cell_type": "code",
   "execution_count": 4,
   "metadata": {},
   "outputs": [
    {
     "data": {
      "text/plain": [
       "4564.753221042047"
      ]
     },
     "execution_count": 4,
     "metadata": {},
     "output_type": "execute_result"
    }
   ],
   "source": [
    "df['Total Deaths'].mean()"
   ]
  },
  {
   "cell_type": "markdown",
   "metadata": {},
   "source": [
    "## 2. Median"
   ]
  },
  {
   "cell_type": "code",
   "execution_count": 5,
   "metadata": {},
   "outputs": [
    {
     "data": {
      "text/plain": [
       "565.5"
      ]
     },
     "execution_count": 5,
     "metadata": {},
     "output_type": "execute_result"
    }
   ],
   "source": [
    "df['Total Deaths'].median()"
   ]
  },
  {
   "cell_type": "markdown",
   "metadata": {},
   "source": [
    "## 3. Mode"
   ]
  },
  {
   "cell_type": "code",
   "execution_count": 6,
   "metadata": {},
   "outputs": [
    {
     "data": {
      "text/plain": [
       "0    1\n",
       "Name: Total Deaths, dtype: int64"
      ]
     },
     "execution_count": 6,
     "metadata": {},
     "output_type": "execute_result"
    }
   ],
   "source": [
    "df['Total Deaths'].mode()"
   ]
  },
  {
   "cell_type": "markdown",
   "metadata": {},
   "source": [
    "## 4. Min Max"
   ]
  },
  {
   "cell_type": "code",
   "execution_count": 7,
   "metadata": {},
   "outputs": [
    {
     "data": {
      "text/plain": [
       "min         0\n",
       "max    157876\n",
       "Name: Total Deaths, dtype: int64"
      ]
     },
     "execution_count": 7,
     "metadata": {},
     "output_type": "execute_result"
    }
   ],
   "source": [
    "df['Total Deaths'].agg((\"min\", \"max\"))"
   ]
  },
  {
   "cell_type": "markdown",
   "metadata": {},
   "source": [
    "# B. Measure of Variance"
   ]
  },
  {
   "cell_type": "markdown",
   "metadata": {},
   "source": [
    "## 1. Range"
   ]
  },
  {
   "cell_type": "code",
   "execution_count": 8,
   "metadata": {},
   "outputs": [
    {
     "name": "stdout",
     "output_type": "stream",
     "text": [
      "Total Deaths range: 157876\n"
     ]
    }
   ],
   "source": [
    "print(df['Total Deaths'].name + ' range: ' + str(df['Total Deaths'].max() - df['Total Deaths'].min()))"
   ]
  },
  {
   "cell_type": "markdown",
   "metadata": {},
   "source": [
    "## 2. Percentiles and Quartiles"
   ]
  },
  {
   "cell_type": "code",
   "execution_count": 11,
   "metadata": {},
   "outputs": [
    {
     "data": {
      "text/plain": [
       "21.862233674816164"
      ]
     },
     "execution_count": 11,
     "metadata": {},
     "output_type": "execute_result"
    }
   ],
   "source": [
    "# Contoh mencari nilai percentiles pada total deaths = 100\n",
    "\n",
    "stats.percentileofscore(df['Total Deaths'], 100, 'strict')  "
   ]
  },
  {
   "cell_type": "code",
   "execution_count": 12,
   "metadata": {},
   "outputs": [
    {
     "data": {
      "text/plain": [
       "0.25     128.0\n",
       "0.50     565.5\n",
       "0.75    2189.0\n",
       "Name: Total Deaths, dtype: float64"
      ]
     },
     "execution_count": 12,
     "metadata": {},
     "output_type": "execute_result"
    }
   ],
   "source": [
    "df['Total Deaths'].quantile([0.25, 0.5, 0.75])"
   ]
  },
  {
   "cell_type": "code",
   "execution_count": 16,
   "metadata": {},
   "outputs": [
    {
     "data": {
      "image/png": "[encoded data removed]",
      "text/plain": [
       "<Figure size 720x576 with 1 Axes>"
      ]
     },
     "metadata": {
      "needs_background": "light"
     },
     "output_type": "display_data"
    }
   ],
   "source": [
    "# Display box plot\n",
    "\n",
    "df['Total Deaths'].plot(kind='box', title='tes', figsize=(10,8))\n",
    "plt.show()"
   ]
  }
 ],
 "metadata": {
  "kernelspec": {
   "display_name": "Python 3.9.12 ('base')",
   "language": "python",
   "name": "python3"
  },
  "language_info": {
   "codemirror_mode": {
    "name": "ipython",
    "version": 3
   },
   "file_extension": ".py",
   "mimetype": "text/x-python",
   "name": "python",
   "nbconvert_exporter": "python",
   "pygments_lexer": "ipython3",
   "version": "3.9.12"
  },
  "orig_nbformat": 4,
  "vscode": {
   "interpreter": {
    "hash": "8cc94ca4d458375ab6fa09fff2bcebd17a45ec2b30e79818f9096fe81b376e63"
   }
  }
 },
 "nbformat": 4,
 "nbformat_minor": 2
}
